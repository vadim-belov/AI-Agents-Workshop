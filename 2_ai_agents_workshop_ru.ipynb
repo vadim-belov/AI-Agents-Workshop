{
 "cells": [
  {
   "cell_type": "markdown",
   "id": "e1e49f11-b3ba-418b-9a38-4152a7da4b65",
   "metadata": {},
   "source": [
    "# Workshop Основы LangGraph\n",
    "## Теория\n",
    "1. Используемые библиотеки\n",
    "2. Базовые элементы LangGraph\n",
    "3. Постановка задачи на создание печатного журнала\n",
    "## Практика\n",
    "4. Функции создания разметки журнала\n",
    "5. Создание контента журнала c помощью GenAI"
   ]
  },
  {
   "cell_type": "markdown",
   "id": "6d1ca8d9-8956-479a-82df-99d13ae57ad5",
   "metadata": {},
   "source": [
    "## Что будет использовано"
   ]
  },
  {
   "cell_type": "markdown",
   "id": "2c8f1617-b65e-4d13-b119-bce0eb54c165",
   "metadata": {},
   "source": [
    "### 1. LangGraph\n",
    "\n",
    "✅ Построение сложных NLP-воркфлоу\n",
    "\n",
    "✅ Ветвление логики выполнения\n",
    "\n",
    "✅ Интеграция с LLM (OpenAI, Anthropic и др.)"
   ]
  },
  {
   "cell_type": "code",
   "execution_count": null,
   "id": "db1fdcc7-3988-4fc4-8c92-020303394a98",
   "metadata": {},
   "outputs": [],
   "source": [
    "!pip install -q langgraph"
   ]
  },
  {
   "cell_type": "markdown",
   "id": "db87f2cb-45c2-430f-b863-4a15c5cf38e4",
   "metadata": {},
   "source": [
    "### 2. WeasyPrint\n",
    "\n",
    "✅ Конвертация веб-контента в PDF\n",
    "\n",
    "✅ Поддержка современных CSS\n",
    "\n",
    "✅ Сохранение дизайна без скрытого запуска браузера "
   ]
  },
  {
   "cell_type": "code",
   "execution_count": null,
   "id": "65bcc00a-18be-4d03-9551-34d2d478a89f",
   "metadata": {},
   "outputs": [],
   "source": [
    "!pip install -q weasyprint"
   ]
  },
  {
   "cell_type": "markdown",
   "id": "fe039019-b137-47ea-af92-b4dbc9ebbde3",
   "metadata": {},
   "source": [
    "Для пользователей Windows процесс установки сложнее и описывается по ссылке\n",
    "\n",
    "https://doc.courtbouillon.org/weasyprint/stable/first_steps.html\n",
    "\n",
    "Преобразование в PDF не является важным с точки зрения воркшопа, поэтому можно установить значение в следующее ячейке в False, чтобы избежать необязательных затруднений, если weasyprint доставляет неудобства"
   ]
  },
  {
   "cell_type": "code",
   "execution_count": null,
   "id": "b24aa171-4721-483a-a0fb-89d3d3a619ad",
   "metadata": {},
   "outputs": [],
   "source": [
    "should_convert_to_pdf = False"
   ]
  },
  {
   "cell_type": "markdown",
   "id": "3da31453-5f17-4693-aac6-49c92cc62f51",
   "metadata": {},
   "source": [
    "### 3. Horde_SDK\n",
    "\n",
    "✅ Доступ к бесплатным ИИ-ресурсам\n",
    "\n",
    "✅ Генерация через crowd-сеть\n",
    "\n",
    "✅ Поддержка изображений/текста"
   ]
  },
  {
   "cell_type": "code",
   "execution_count": null,
   "id": "0ef298b6-26e0-4976-8b2b-86583d5cd495",
   "metadata": {},
   "outputs": [],
   "source": [
    "!pip install -q horde_sdk"
   ]
  },
  {
   "cell_type": "markdown",
   "id": "4c3c2d1e-c317-4b0b-a774-a2e7c312f65a",
   "metadata": {},
   "source": [
    "**Регистрация в AI Horde**\n",
    "\n",
    "Процесс очень простой. Достаточно войти через Google ID и ввести имя. Ключ API будет присвоен сразу. Без регистрации есть доступ с самым низким приоритетом. Чтобы не ждать слишком долго, рекомендуется зарегистрироваться по ссылке\n",
    "https://stablehorde.net/register"
   ]
  },
  {
   "cell_type": "code",
   "execution_count": null,
   "id": "d549c2a6-e309-4572-88fd-8a3827fc21ec",
   "metadata": {},
   "outputs": [],
   "source": [
    "%%html\n",
    "<style>\n",
    "table {float:left}\n",
    "</style>"
   ]
  },
  {
   "cell_type": "markdown",
   "id": "c552c5ec-3945-49a1-bbcf-466735593eec",
   "metadata": {},
   "source": [
    "# 🧩 Базовые элементы LangGraph\n",
    "\n",
    "## 1. **Узлы (Nodes)**\n",
    "```python\n",
    "from langgraph.graph import Node\n",
    "\n",
    "# Функция-обработчик узла\n",
    "def retrieve_data(state):\n",
    "    return {\"data\": \"Some processed info\"}\n",
    "```\n",
    "**Назначение**: Базовые строительные блоки графа\n",
    "\n",
    "**Особенности**:\n",
    "\n",
    "- Выполняют атомарные операции\n",
    "\n",
    "- Принимают/возвращают состояние (state)\n",
    "\n",
    "- Могут быть sync/async\n",
    "\n",
    "## 2. Состояние (State)\n",
    "```python\n",
    "class AgentState(TypedDict):\n",
    "    input: str\n",
    "    intermediate_results: list\n",
    "    final_output: Optional[str]\n",
    "```\n",
    "**Роль**: Хранит данные между узлами\n",
    "\n",
    "**Форматы**:\n",
    "\n",
    "- Dataclass\n",
    "\n",
    "- Pydantic-модели\n",
    "\n",
    "- TypedDict\n",
    "\n",
    "## 3. Рёбра (Edges)\n",
    "```python\n",
    "graph.add_edge(\"node_a\", \"node_b\")  # Линейное выполнение\n",
    "```\n",
    "**Назначение**: Переходы между узлами\n",
    "\n",
    "## 4. Условные переходы (Conditionals)\n",
    "```python\n",
    "def should_continue(state):\n",
    "    if state[\"quality\"] > 0.7:\n",
    "        return \"accept\" \n",
    "    return \"revise\"\n",
    "\n",
    "graph.add_conditional_edges(\n",
    "    \"evaluator\",\n",
    "    should_continue,\n",
    "    {\"accept\": \"publish\", \"revise\": \"editor\"}\n",
    ")\n",
    "```\n",
    "**Использование**:\n",
    "\n",
    "- Маршрутизация по условиям\n",
    "\n",
    "- Повторные циклы (retry-логика)\n",
    "\n",
    "## 5. Граф (Graph)\n",
    "```python\n",
    "from langgraph.graph import Graph\n",
    "\n",
    "workflow = Graph()\n",
    "workflow.add_node(\"preprocess\", preprocess_data)\n",
    "workflow.add_node(\"generate\", call_llm)\n",
    "workflow.add_edge(\"preprocess\", \"generate\")\n",
    "```\n",
    "**Методы управления**:\n",
    "\n",
    "- .add_node() - добавление узла\n",
    "\n",
    "- .add_edge() - создание связи\n",
    "\n",
    "- .add_conditional_edges() - ветвление\n",
    "\n",
    "\n",
    "## 📌 Ключевые концепции\n",
    "| Элемент   | Аналог в программировании |\n",
    "|-----------|---------------------------|\n",
    "| Узлы\t    | Функции                   | \n",
    "| Рёбра\t    | Вызовы функций            |\n",
    "| Состояние\t| Контекст выполнения       |\n",
    "| Условия\t| if/else логика            |\n"
   ]
  },
  {
   "cell_type": "markdown",
   "id": "ef7c33fd-bcad-4445-9526-e3a808a17dae",
   "metadata": {},
   "source": [
    "# Что мы с этим будем делать?\n",
    "### Построим граф для создания журнала\n",
    "У журнала должна быть обложка, несколько страниц со статьями и завершающая страница с редакторами. Журнал должен быть иллюстрирован, а статьи содержать комментарии редактора."
   ]
  },
  {
   "cell_type": "markdown",
   "id": "ffd4e749-2863-4958-8cf6-faacdbadb87c",
   "metadata": {},
   "source": [
    "# Пишем код!\n",
    "### Импортируем все необходимое"
   ]
  },
  {
   "cell_type": "code",
   "execution_count": null,
   "id": "eabb4552-8cc4-4448-83f8-02d58047af49",
   "metadata": {},
   "outputs": [],
   "source": [
    "import json\n",
    "import os\n",
    "from typing import Dict, TypedDict, List\n",
    "from langgraph.graph import Graph\n",
    "from IPython.display import Image as IImage, display\n",
    "from pathlib import Path\n",
    "from PIL.Image import Image\n",
    "from horde_sdk import ANON_API_KEY\n",
    "from horde_sdk.ai_horde_api.ai_horde_clients import AIHordeAPISimpleClient\n",
    "from horde_sdk.ai_horde_api.apimodels import (\n",
    "    ImageGenerateAsyncRequest,\n",
    "    ImageGenerationInputPayload\n",
    ")\n",
    "\n",
    "if should_convert_to_pdf:\n",
    "    from weasyprint import HTML"
   ]
  },
  {
   "cell_type": "markdown",
   "id": "4eb7e978-ef65-4f89-869d-04de89d86e94",
   "metadata": {},
   "source": [
    "### В этом файле сохранены HTML-шаблоны для всех элементов журнала"
   ]
  },
  {
   "cell_type": "code",
   "execution_count": null,
   "id": "2a84e876-0711-46e1-8e12-fe4e2c293305",
   "metadata": {},
   "outputs": [],
   "source": [
    "html_json_path = \"2/html.json\"\n",
    "\n",
    "with open(html_json_path) as f:\n",
    "    html_dict = json.load(f)"
   ]
  },
  {
   "cell_type": "markdown",
   "id": "a95abea7-7632-4701-8d53-9e7dae2ffa32",
   "metadata": {},
   "source": [
    "### Объявим класс состояния"
   ]
  },
  {
   "cell_type": "code",
   "execution_count": null,
   "id": "760696f9-040e-44fb-b622-194d30f5c7a3",
   "metadata": {},
   "outputs": [],
   "source": [
    "# Класс состояния\n",
    "class MagazineState(TypedDict):\n",
    "    title: str\n",
    "    cover_page: str\n",
    "    articles: List[Dict]  # Список всех статей\n",
    "    content_pages: List[str]  # Сгенерированные HTML страницы\n",
    "    editors_page: str\n",
    "    html_output: str\n",
    "    filename: str\n",
    "    pdf_name: str\n",
    "    publishing_info: str\n",
    "    publisher: str\n",
    "    current_article_index: int  # Индекс текущей обрабатываемой статьи\n",
    "    keep_adding_articles: bool"
   ]
  },
  {
   "cell_type": "markdown",
   "id": "029c2702-1ba6-42fa-bc6e-8393b6e28600",
   "metadata": {},
   "source": [
    "### Объявим функции, которые станут узлами. Состояние на вход, состояние на выход"
   ]
  },
  {
   "cell_type": "code",
   "execution_count": null,
   "id": "a506cf17-d965-406e-9f57-bc6f4ad75d73",
   "metadata": {},
   "outputs": [],
   "source": [
    "def add_editors_page(state: MagazineState) -> MagazineState:\n",
    "    \"\"\"Генерация страницы редакторов\"\"\"\n",
    "    editors_html = \"\"\n",
    "    for editor in state.get(\"editors_data\"):\n",
    "        editors_html += html_dict[\"editor_template\"].format(\n",
    "            photo_url=editor[\"photo_url\"],\n",
    "            name=editor[\"name\"],\n",
    "            position=editor[\"position\"],\n",
    "            bio=editor[\"bio\"]\n",
    "        )\n",
    "\n",
    "    publishing_note = html_dict[\"publishing_note_template\"].format(\n",
    "        publisher=state[\"publisher\"],\n",
    "        publishing_info=state[\"publishing_info\"]\n",
    "    )\n",
    "    \n",
    "    state[\"editors_page\"] = html_dict[\"editors_page_template\"].format(\n",
    "        editors_html=editors_html,\n",
    "        publishing_note=publishing_note\n",
    "    )\n",
    "\n",
    "    return state\n",
    "\n",
    "def generate_html(state: MagazineState) -> MagazineState:\n",
    "    \"\"\"Финальная сборка HTML\"\"\"\n",
    "    state[\"html_output\"] = html_dict[\"html_template\"].format(\n",
    "        title=state[\"title\"],\n",
    "        cover_page=state[\"cover_page\"],\n",
    "        content_pages=\"\\n\".join(state[\"content_pages\"]),\n",
    "        editors_page=state[\"editors_page\"]\n",
    "    )\n",
    "    \n",
    "    return state\n",
    "\n",
    "def save_to_file(state: MagazineState) -> MagazineState:\n",
    "    \"\"\"Сохранение в файл\"\"\"\n",
    "    with open(state.get(\"filename\"), 'w', encoding='utf-8') as f:\n",
    "        f.write(state[\"html_output\"])\n",
    "        \n",
    "    print(f\"HTML журнала успешно сгенерирован и сохранен в {state.get('filename')}\")\n",
    "    \n",
    "    return state\n",
    "\n",
    "def save_to_pdf(state: MagazineState) -> MagazineState:     \n",
    "    HTML(filename=state.get(\"filename\")).write_pdf(state.get(\"pdf_name\"))\n",
    "    print(f\"PDF успешно сгенерирован и сохранен в {state.get('pdf_name')}\")\n",
    "    \n",
    "    return state\n",
    "\n",
    "def initialize_magazine(state: MagazineState) -> MagazineState:\n",
    "    \"\"\"Инициализация журнала\"\"\"\n",
    "    state[\"current_article_index\"] = 0\n",
    "    state[\"content_pages\"] = []\n",
    "\n",
    "    return state\n",
    "\n",
    "def add_cover_page(state: MagazineState) -> MagazineState:\n",
    "    \"\"\"Генерация обложки журнала\"\"\"\n",
    "    state[\"cover_page\"] = html_dict[\"cover_page_template\"].format(\n",
    "        image_url=state.get(\"cover_image_url\"),\n",
    "        title_line1=state.get(\"title_line1\"),\n",
    "        title_line2=state.get(\"title_line2\")\n",
    "    )\n",
    "    \n",
    "    return state\n",
    "\n",
    "# Здесь избыточно, но так бывает не всегда, зато граф визуализируется нагляднее\n",
    "def should_add_another_article(state: MagazineState) -> MagazineState:\n",
    "    \"\"\"Определяет состояние, нужно ли добавлять еще одну статью\"\"\"\n",
    "    state[\"keep_adding_articles\"] = state[\"current_article_index\"] < len(state[\"articles\"])\n",
    "    return state\n",
    "\n",
    "def add_content_page(state: MagazineState):\n",
    "    \"\"\"Добавление контентной страницы для текущей статьи\"\"\"\n",
    "    article = state[\"articles\"][state[\"current_article_index\"]]\n",
    "\n",
    "    page = html_dict[\"content_page_template\"].format(\n",
    "        title=article[\"title\"],\n",
    "        image_url=article[\"image_url\"],\n",
    "        image_alt=article[\"image_alt\"],\n",
    "        text=article[\"text\"],\n",
    "        editor_photo_url=article[\"editor_photo_url\"],\n",
    "        editor_comment=article[\"editor_comment\"]\n",
    "    )    \n",
    "    state[\"content_pages\"].append(page)\n",
    "    state[\"current_article_index\"] += 1  # Переходим к следующей статье\n",
    "    return state"
   ]
  },
  {
   "cell_type": "markdown",
   "id": "07081cff-c68f-4183-962d-1db531c9bf3d",
   "metadata": {},
   "source": [
    "### Объявим функцию для условного перехода. Состояние на вход, строка на выход"
   ]
  },
  {
   "cell_type": "code",
   "execution_count": null,
   "id": "8ee508db-3d31-4ab4-a57f-f381d5b49b4b",
   "metadata": {},
   "outputs": [],
   "source": [
    "def keep_adding_articles(state: MagazineState) -> str:\n",
    "    \"\"\"Определяет роутинг, нужно ли добавлять еще одну статью\"\"\"\n",
    "    return \"yes\" if state[\"keep_adding_articles\"] else \"no\""
   ]
  },
  {
   "cell_type": "markdown",
   "id": "bb969721-2f76-4c82-8817-3e2c123c527a",
   "metadata": {},
   "source": [
    "### Объявим граф и добавим в него узлы"
   ]
  },
  {
   "cell_type": "code",
   "execution_count": null,
   "id": "17541408-3288-40a6-a66f-a4e41333c4df",
   "metadata": {},
   "outputs": [],
   "source": [
    "workflow = Graph()\n",
    "\n",
    "# Добавляем узлы\n",
    "workflow.add_node(\"initialize\", initialize_magazine)\n",
    "workflow.add_node(\"add_cover\", add_cover_page)\n",
    "workflow.add_node(\"add_content\", add_content_page)\n",
    "workflow.add_node(\"should_add_another\", should_add_another_article)\n",
    "workflow.add_node(\"add_editors\", add_editors_page)\n",
    "workflow.add_node(\"generate_html\", generate_html)\n",
    "workflow.add_node(\"save_html_file\", save_to_file)\n",
    "\n",
    "if should_convert_to_pdf:\n",
    "    workflow.add_node(\"save_pdf\", save_to_pdf)"
   ]
  },
  {
   "cell_type": "markdown",
   "id": "986f18d4-bfbe-4c87-a66c-5ca3fb2c01e1",
   "metadata": {},
   "source": [
    "### Добавим ребра, условный переход, начальную и конечную точки"
   ]
  },
  {
   "cell_type": "code",
   "execution_count": null,
   "id": "b9415382-0f30-4bac-aa47-bed31caf6673",
   "metadata": {},
   "outputs": [],
   "source": [
    "# Определяем связи\n",
    "workflow.add_edge(\"initialize\", \"add_cover\")\n",
    "workflow.add_edge(\"add_cover\", \"add_content\")\n",
    "workflow.add_edge(\"add_content\", \"should_add_another\")\n",
    "\n",
    "# Условный переход: добавляем еще статью или переходим к редакторам\n",
    "workflow.add_conditional_edges(\n",
    "    \"should_add_another\", keep_adding_articles, {\"yes\": \"add_content\", \"no\": \"add_editors\"}\n",
    ")\n",
    "\n",
    "workflow.add_edge(\"add_editors\", \"generate_html\")\n",
    "workflow.add_edge(\"generate_html\", \"save_html_file\")\n",
    "\n",
    "if should_convert_to_pdf:\n",
    "    workflow.add_edge(\"save_html_file\", \"save_pdf\")\n",
    "\n",
    "workflow.set_entry_point(\"initialize\")\n",
    "\n",
    "if should_convert_to_pdf:\n",
    "    workflow.set_finish_point(\"save_pdf\")\n",
    "else:\n",
    "    workflow.set_finish_point(\"save_html_file\")"
   ]
  },
  {
   "cell_type": "markdown",
   "id": "96b2357e-049f-4c78-b677-dc9245256a07",
   "metadata": {},
   "source": [
    "### Соберем граф и визуализируем его"
   ]
  },
  {
   "cell_type": "code",
   "execution_count": null,
   "id": "fa088385-f89e-4172-a9db-88cd1e552536",
   "metadata": {},
   "outputs": [],
   "source": [
    "magazine_agent = workflow.compile()\n",
    "display(IImage(magazine_agent.get_graph().draw_mermaid_png()))"
   ]
  },
  {
   "cell_type": "markdown",
   "id": "25ee6e69-f39c-4bcb-af3b-825fa90c9d3e",
   "metadata": {},
   "source": [
    "### Заполним состояние контентом журнала"
   ]
  },
  {
   "cell_type": "code",
   "execution_count": null,
   "id": "9f5711a2-bc0d-4a82-8872-bb18e0952cd2",
   "metadata": {},
   "outputs": [],
   "source": [
    "input_state = {\n",
    "    \"title\": \"Новости Средиземья\",\n",
    "    \"cover_image_url\": \"2/cover.jpg?ixlib=rb-1.2.1&auto=format&fit=crop&w=1350&q=80\",\n",
    "    \"title_line1\": \"Новости Средиземья\",\n",
    "    \"title_line2\": \"Выпуск 285\",\n",
    "    \"articles\": [\n",
    "        {\n",
    "            \"title\": \"Леголас открывает эльфийскую школу стрельбы из лука в Ривенделле\",\n",
    "            \"image_url\": \"2/default.jpg?ixlib=rb-1.2.1&auto=format&fit=crop&w=1000&q=80\",\n",
    "            \"image_alt\": \"Вместо картинки\",\n",
    "            \"text\": \"Знаменитый эльф Леголас, герой Войны Кольца, объявил о создании первой в Средиземье школы стрельбы из лука для всех рас. Школа примет учеников уже этим летом, и, по словам принца-эльфа, 'Даже хоббиты смогут научиться попадать в цель с пятидесяти шагов'. Поговаривают, что сам Арагорн лично одобрил эту инициативу, а Гимли, хотя и ворчит, что 'Луки — оружие для тех, кто боится честного боя', пообещал провести мастер-класс по владению боевым топором.\",\n",
    "            \"editor_photo_url\": \"2/editor.jpg?ixlib=rb-1.2.1&auto=format&fit=crop&w=200&q=80\",\n",
    "            \"editor_comment\": \"Редактор не имеет мнения по этому вопросу...\"\n",
    "        },\n",
    "        {\n",
    "            \"title\": \"В Мории вновь зажглись огни — гномы возвращаются в Казад-Дум\",\n",
    "            \"image_url\": \"2/default.jpg?ixlib=rb-1.2.1&auto=format&fit=crop&w=1000&&q=80\",\n",
    "            \"image_alt\": \"Вместо картинки\",\n",
    "            \"text\": \"После долгих лет очищения от орков и теней прошлого гномы клана Дьюрина начали масштабное заселение древнего королевства Казад-Дум. Король Гимли возглавляет экспедицию, и уже первые отряды строителей восстановили часть великих залов. 'Мория снова будет сиять, как в дни былой славы!' — заявил Гимли, демонстрируя первые слитки митрила, добытые в обновлённых шахтах. Однако рудокопы советуют не углубляться в нижние уровни — ходят слухи, что в тенистых углах ещё могут скрываться остатки древних ужасов.\",\n",
    "            \"editor_photo_url\": \"2/editor.jpg?ixlib=rb-1.2.1&auto=format&fit=crop&w=200&q=80\",\n",
    "            \"editor_comment\": \"Редактор не имеет мнения по этому вопросу...\"\n",
    "        }\n",
    "    ],\n",
    "    \"editors_data\" : [\n",
    "        {\n",
    "            \"name\": \"ИИ Ежов\",\n",
    "            \"position\": \"Главный редактор\",\n",
    "            \"photo_url\": \"2/editor.jpg?ixlib=rb-1.2.1&auto=format&fit=crop&w=300&q=80\",\n",
    "            \"bio\": \"Основатель журнала, признанный эксперт в области критики, мизантроп, визионер, криптовалютный инвестор,  лучший редактор России.\"\n",
    "        },\n",
    "        {\n",
    "            \"name\": \"Вадим Белов\",\n",
    "            \"position\": \"Помощник главного редактора\",\n",
    "            \"photo_url\": \"2/vb.jpg?ixlib=rb-1.2.1&auto=format&fit=crop&w=300&q=80\",\n",
    "            \"bio\": \"Уверенный пользователь ПК.\"\n",
    "        }\n",
    "    ],\n",
    "    \"publisher\": \"Издательство 'Назгул сотоварищи'\",\n",
    "    \"publishing_info\": \"Четвертая эпоха, год 10-й\",\n",
    "    \"filename\": \"magazine_article.html\",\n",
    "    \"pdf_name\": \"magazine_article.pdf\"\n",
    "}\n"
   ]
  },
  {
   "cell_type": "code",
   "execution_count": null,
   "id": "84d5a83b-434e-4929-9b37-f68a0587578e",
   "metadata": {},
   "outputs": [],
   "source": [
    "result = magazine_agent.invoke(input_state)\n",
    "print(f\"Журнал с {len(input_state['articles'])} статьями сохранен в: {result['pdf_name'] if should_convert_to_pdf else result['filename']}\")"
   ]
  },
  {
   "cell_type": "markdown",
   "id": "07be3104-f899-419f-a9b5-105ebf338db3",
   "metadata": {},
   "source": [
    "# Верстка журнала автоматизирована. Теперь автоматизируем создание контента"
   ]
  },
  {
   "cell_type": "code",
   "execution_count": null,
   "id": "1f2c6200-fda9-4198-a0b1-dba2eee9a8e4",
   "metadata": {},
   "outputs": [],
   "source": [
    "def simple_generate_example(prompt: str, api_key: str = ANON_API_KEY) -> str:\n",
    "    \"\"\" Генерирует изображение по промпту и возвращает путь, по которому оно сохранено \"\"\"\n",
    "    simple_client = AIHordeAPISimpleClient()\n",
    "\n",
    "    status_response, job_id = simple_client.image_generate_request(\n",
    "        ImageGenerateAsyncRequest(\n",
    "            apikey=api_key,\n",
    "            params=ImageGenerationInputPayload(\n",
    "                width=512,\n",
    "                height=512,\n",
    "            ),\n",
    "            prompt=prompt,\n",
    "            models=[\"Deliberate\"]\n",
    "        )\n",
    "    )\n",
    "\n",
    "    if len(status_response.generations) == 0:\n",
    "        raise ValueError(\"No generations returned in the response.\")\n",
    "\n",
    "    example_path = Path(\"requested_images\")\n",
    "    example_path.mkdir(exist_ok=True, parents=True)\n",
    "    img_path = f\"{example_path}/{job_id}.png\"\n",
    "\n",
    "    image_pil = simple_client.download_image_from_generation(status_response.generations[0])\n",
    "    image_pil.save(img_path)\n",
    "    print(f\"Image saved to {img_path}\")\n",
    "        \n",
    "    return img_path"
   ]
  },
  {
   "cell_type": "markdown",
   "id": "577ff87c-4695-4c49-a3d5-e64a167d8807",
   "metadata": {},
   "source": [
    "### Нам также понадобится обращаться к LLM для генерации текста. Воспользуемся Mistral из прошлого воркшопа\n",
    "Полный список нативно поддерживаемых провайдеров представлен здесь https://python.langchain.com/docs/integrations/llms/\n",
    "\n",
    "Есть даже GigaChat."
   ]
  },
  {
   "cell_type": "markdown",
   "id": "71596ed0-2113-4a75-83c7-f2cc9de5ade6",
   "metadata": {},
   "source": [
    "### Установим нужный пакет"
   ]
  },
  {
   "cell_type": "code",
   "execution_count": null,
   "id": "e8ec354f-1627-4ba5-9a60-72ab86f254b9",
   "metadata": {},
   "outputs": [],
   "source": [
    "!pip install -q langchain_mistralai"
   ]
  },
  {
   "cell_type": "markdown",
   "id": "80ad7029-9644-40a6-a03b-a480c8605260",
   "metadata": {},
   "source": [
    "### Установим ключ доступа"
   ]
  },
  {
   "cell_type": "code",
   "execution_count": null,
   "id": "ee5071e4-5175-465b-a8af-4dc824ad5042",
   "metadata": {},
   "outputs": [],
   "source": [
    "os.environ['MISTRAL_API_KEY'] = \"<your-api-key>\""
   ]
  },
  {
   "cell_type": "markdown",
   "id": "410215d9-4982-4a7a-b39a-4997138c1ddc",
   "metadata": {},
   "source": [
    "### И создадим нужный класс"
   ]
  },
  {
   "cell_type": "code",
   "execution_count": null,
   "id": "b7125846-5d07-42bc-982c-68b597ff066e",
   "metadata": {},
   "outputs": [],
   "source": [
    "from langchain_mistralai import ChatMistralAI\n",
    "\n",
    "llm = ChatMistralAI(model=\"mistral-large-latest\")"
   ]
  },
  {
   "cell_type": "markdown",
   "id": "43ef5b65-cc31-4af2-96db-ec927ec7a253",
   "metadata": {},
   "source": [
    "### Напишем функцию генерации комментария"
   ]
  },
  {
   "cell_type": "code",
   "execution_count": null,
   "id": "0a2784df-d72f-4bd2-851d-4ccd3d8ac454",
   "metadata": {},
   "outputs": [],
   "source": [
    "def generate_comment(title: str, text: str) -> str:\n",
    "    \"\"\"Создает комментарий редактора по заголовку и тексту новости\"\"\"\n",
    "    messages = [\n",
    "        (\n",
    "            \"system\",\n",
    "            \"Ты редактор журнала и пишешь к статьям ироничные комментарии, которые никого не оскорбляют.\",\n",
    "        ),\n",
    "        (\n",
    "            \"human\", \n",
    "            f\"Напиши комментарий (только комментарий) к статье с заголовком '{title}' и следующим текстом: {text}\"\n",
    "        ),\n",
    "    ]\n",
    "    ai_msg = llm.invoke(messages)\n",
    "    \n",
    "    return ai_msg.content"
   ]
  },
  {
   "cell_type": "markdown",
   "id": "294c3518-e92a-4df2-914e-87b1f2a37958",
   "metadata": {},
   "source": [
    "### Нам понадобится новый узел для графа"
   ]
  },
  {
   "cell_type": "code",
   "execution_count": null,
   "id": "62d2987a-a49c-45c3-a5a3-c7fef8193e0b",
   "metadata": {},
   "outputs": [],
   "source": [
    "def add_editors_comments(state: MagazineState) -> MagazineState:\n",
    "    \"\"\"Генерирует комментарии редактора\"\"\"\n",
    "    for article_index in range(len(state[\"articles\"])):  \n",
    "        comment = generate_comment(state[\"articles\"][article_index][\"title\"], state[\"articles\"][article_index][\"text\"])\n",
    "        state[\"articles\"][article_index][\"editor_comment\"] = comment\n",
    "    \n",
    "    return state"
   ]
  },
  {
   "cell_type": "markdown",
   "id": "7d3bd6ee-7759-4915-a174-140c99f3ba87",
   "metadata": {},
   "source": [
    "### Нам понадобится возможность генерации картинок на лету\n",
    "На 11.04.2025 возможность бесплатно генерировать изображения по API предоставляется очень малвм числом сервисов. Мы возпользуемся AI Horde"
   ]
  },
  {
   "cell_type": "code",
   "execution_count": null,
   "id": "8067d56c-f8bd-4138-b436-1dcd39a2a20f",
   "metadata": {},
   "outputs": [],
   "source": [
    "def generate_image(prompt: str, api_key: str = ANON_API_KEY) -> str:\n",
    "    \"\"\" Генерирует изображение по промпту и возвращает путь, по которому оно сохранено \"\"\"\n",
    "    simple_client = AIHordeAPISimpleClient()\n",
    "\n",
    "    status_response, job_id = simple_client.image_generate_request(\n",
    "        ImageGenerateAsyncRequest(\n",
    "            apikey=api_key,\n",
    "            params=ImageGenerationInputPayload(\n",
    "                width=512,\n",
    "                height=256,\n",
    "            ),\n",
    "            prompt=prompt,\n",
    "            models=[\"Deliberate\"]\n",
    "        )\n",
    "    )\n",
    "\n",
    "    if len(status_response.generations) == 0:\n",
    "        raise ValueError(\"No generations returned in the response.\")\n",
    "\n",
    "    example_path = Path(\"requested_images\")\n",
    "    example_path.mkdir(exist_ok=True, parents=True)\n",
    "    img_path = f\"{example_path}/{job_id}.png\"\n",
    "\n",
    "    image_pil = simple_client.download_image_from_generation(status_response.generations[0])\n",
    "    image_pil.save(img_path)\n",
    "    print(f\"Image saved to {img_path}\")\n",
    "        \n",
    "    return img_path"
   ]
  },
  {
   "cell_type": "markdown",
   "id": "582704c6-5f85-419e-83c3-df22290794f8",
   "metadata": {},
   "source": [
    "### Вставим ключ для AI Horde"
   ]
  },
  {
   "cell_type": "code",
   "execution_count": null,
   "id": "5a2df4fb-ffea-464d-8353-392d2001b4ba",
   "metadata": {},
   "outputs": [],
   "source": [
    "horde_api_key = \"<your-api-key>\" # ANON_API_KEY"
   ]
  },
  {
   "cell_type": "markdown",
   "id": "72253b47-7620-45f1-851c-d67281fda2b3",
   "metadata": {},
   "source": [
    "### Но какую картинку генерировать? А это тоже пускай решает LLM"
   ]
  },
  {
   "cell_type": "code",
   "execution_count": null,
   "id": "015ba64b-4a5b-4c2a-88c1-f2615a186f7b",
   "metadata": {},
   "outputs": [],
   "source": [
    "def generate_image_description(title: str, text: str) -> str:\n",
    "    \"\"\"Генерирует описание иллюстрации\"\"\"\n",
    "    messages = [\n",
    "        (\n",
    "            \"system\",\n",
    "            \"Ты редактор журнала и придумываешь на английском языке, какие иллюстрации подходят новостям.\",\n",
    "        ),\n",
    "        (\n",
    "            \"human\", \n",
    "            f\"Напиши на английском языке короткое описание (только описание) иллюстрации к статье с заголовком '{title}' и следующим текстом: {text}\"\n",
    "        ),\n",
    "    ]\n",
    "    ai_msg = llm.invoke(messages)\n",
    "    \n",
    "    return ai_msg.content"
   ]
  },
  {
   "cell_type": "markdown",
   "id": "074d53c9-8598-41b2-bd61-2fbf435c1870",
   "metadata": {},
   "source": [
    "### Добавление иллюстраций тоже сделаем отдельным узлом"
   ]
  },
  {
   "cell_type": "code",
   "execution_count": null,
   "id": "f73705af-1e67-4901-b76b-90d6ec5313ec",
   "metadata": {},
   "outputs": [],
   "source": [
    "def add_article_images(state: MagazineState) -> MagazineState:\n",
    "    \"\"\"Генерирует иллюстрации к статьям\"\"\"\n",
    "    for article_index in range(len(state[\"articles\"])):  \n",
    "        image_desc = generate_image_description(state[\"articles\"][article_index][\"title\"], state[\"articles\"][article_index][\"text\"])\n",
    "        state[\"articles\"][article_index][\"image_alt\"] = image_desc\n",
    "        image_path = generate_image(image_desc, horde_api_key)\n",
    "        state[\"articles\"][article_index][\"image_url\"] = image_path\n",
    "    \n",
    "    return state"
   ]
  },
  {
   "cell_type": "markdown",
   "id": "c7529425-4e6d-49ba-a213-091145093f55",
   "metadata": {},
   "source": [
    "### Снова создадим граф с учетом новых узлов и ребер"
   ]
  },
  {
   "cell_type": "code",
   "execution_count": null,
   "id": "3d40c157-7cf6-4116-a526-172e68237744",
   "metadata": {},
   "outputs": [],
   "source": [
    "workflow = Graph()\n",
    "workflow.add_node(\"initialize\", initialize_magazine)\n",
    "workflow.add_node(\"add_cover\", add_cover_page)\n",
    "workflow.add_node(\"add_content\", add_content_page)\n",
    "workflow.add_node(\"should_add_another\", should_add_another_article)\n",
    "workflow.add_node(\"add_editors\", add_editors_page)\n",
    "workflow.add_node(\"generate_html\", generate_html)\n",
    "workflow.add_node(\"save_html_file\", save_to_file)\n",
    "\n",
    "if should_convert_to_pdf:\n",
    "    workflow.add_node(\"save_pdf\", save_to_pdf)\n",
    "    \n",
    "# Новые узлы\n",
    "workflow.add_node(\"add_comments\", add_editors_comments)\n",
    "workflow.add_node(\"add_images_to_articles\", add_article_images)\n",
    "\n",
    "workflow.add_edge(\"initialize\", \"add_cover\")\n",
    "# Новые ребра\n",
    "workflow.add_edge(\"add_cover\", \"add_comments\")\n",
    "workflow.add_edge(\"add_comments\", \"add_images_to_articles\")\n",
    "workflow.add_edge(\"add_images_to_articles\", \"add_content\")\n",
    "\n",
    "workflow.add_edge(\"add_content\", \"should_add_another\")\n",
    "workflow.add_conditional_edges(\n",
    "    \"should_add_another\", keep_adding_articles, {\"yes\": \"add_content\", \"no\": \"add_editors\"}\n",
    ")\n",
    "workflow.add_edge(\"add_editors\", \"generate_html\")\n",
    "workflow.add_edge(\"generate_html\", \"save_html_file\")\n",
    "\n",
    "if should_convert_to_pdf:\n",
    "    workflow.add_edge(\"save_html_file\", \"save_pdf\")\n",
    "\n",
    "workflow.set_entry_point(\"initialize\")\n",
    "\n",
    "if should_convert_to_pdf:\n",
    "    workflow.set_finish_point(\"save_pdf\")\n",
    "else:\n",
    "    workflow.set_finish_point(\"save_html_file\")"
   ]
  },
  {
   "cell_type": "markdown",
   "id": "7ae755da-4557-4d8e-8581-919547a95908",
   "metadata": {},
   "source": [
    "### Новый граф стал больше"
   ]
  },
  {
   "cell_type": "code",
   "execution_count": null,
   "id": "1b8d2650-0cbc-485b-9578-c94475e794ac",
   "metadata": {},
   "outputs": [],
   "source": [
    "magazine_agent = workflow.compile()\n",
    "display(IImage(magazine_agent.get_graph().draw_mermaid_png()))"
   ]
  },
  {
   "cell_type": "markdown",
   "id": "2a353d6f-96d3-4736-835e-0a7cb06b4a27",
   "metadata": {},
   "source": [
    "### Осталось только вылнить граф заново"
   ]
  },
  {
   "cell_type": "code",
   "execution_count": null,
   "id": "07fe827e-eb0c-4480-b5e5-516a5143ae94",
   "metadata": {},
   "outputs": [],
   "source": [
    "result = magazine_agent.invoke(input_state)\n",
    "print(f\"Журнал с {len(input_state['articles'])} статьями сохранен в: {result['pdf_name'] if should_convert_to_pdf else result['filename']}\")"
   ]
  },
  {
   "cell_type": "markdown",
   "id": "3d34f7d9-26c3-4947-b2e0-14b3830ff6a6",
   "metadata": {},
   "source": [
    "## Вместо выводов\n",
    "Можно ли было сделать все то же самое без LangGraph? Можно.\n",
    "\n",
    "Можно ли без LangGraph сделать код элегантнее? Можно.\n",
    "\n",
    "Но это только базовые элементы, без изучения которых нельзя продвинуться дальше. В следующих воркшопах будут продемонстрированы те возможности LangGraph, которые делают его одним из лидеров рынка фреймворков AI агентов."
   ]
  },
  {
   "cell_type": "markdown",
   "id": "1a20fed3-c0f8-47f2-a2fa-ece900bd00fe",
   "metadata": {},
   "source": [
    "## Что дальше\n",
    "   - Изучаем LangGraph глубже на бесплатном курсе от разработчиков https://academy.langchain.com/courses/intro-to-langgraph\n",
    "   - Ждем следующих воркшопов от  <img src=\"https://telegram.org/img/t_logo.png\" width=\"16\" height=\"16\">@ds_professional\n"
   ]
  },
  {
   "cell_type": "code",
   "execution_count": null,
   "id": "87ac9401-8e3b-4474-9074-4d68a3ae45f1",
   "metadata": {},
   "outputs": [],
   "source": []
  }
 ],
 "metadata": {
  "kernelspec": {
   "display_name": "Python 3 (ipykernel)",
   "language": "python",
   "name": "python3"
  },
  "language_info": {
   "codemirror_mode": {
    "name": "ipython",
    "version": 3
   },
   "file_extension": ".py",
   "mimetype": "text/x-python",
   "name": "python",
   "nbconvert_exporter": "python",
   "pygments_lexer": "ipython3",
   "version": "3.10.12"
  }
 },
 "nbformat": 4,
 "nbformat_minor": 5
}
